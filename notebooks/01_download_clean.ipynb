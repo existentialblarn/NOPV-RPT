{
 "cells": [
  {
   "cell_type": "markdown",
   "metadata": {},
   "source": [
    "Import libraries"
   ]
  },
  {
   "cell_type": "code",
   "execution_count": 24,
   "metadata": {},
   "outputs": [],
   "source": [
    "import pandas as pd\n",
    "from datetime import datetime\n",
    "import os"
   ]
  },
  {
   "cell_type": "markdown",
   "metadata": {},
   "source": [
    "## Step 1: Load data from URL"
   ]
  },
  {
   "cell_type": "code",
   "execution_count": 29,
   "metadata": {},
   "outputs": [],
   "source": [
    "def load_excel_by_column_names(url, engine=None, expected_start=(\"boro\", \"block\", \"lot\"), max_scan=30):\n",
    "    \"\"\"\n",
    "    Loads an Excel file starting from the first row where column headers match `expected_start`.\n",
    "    \"\"\"\n",
    "    temp = pd.read_excel(url, header=None, engine=engine)\n",
    "\n",
    "    for i in range(max_scan):\n",
    "        row = temp.iloc[i].astype(str).str.strip().str.lower().tolist()\n",
    "        if row[:len(expected_start)] == list(expected_start):\n",
    "            print(f\"✅ Header row found at line {i - 1}\")\n",
    "            return pd.read_excel(url, skiprows=i, engine=engine)\n",
    "\n",
    "    raise ValueError(\"❌ Header row not found within scan range.\")"
   ]
  },
  {
   "cell_type": "markdown",
   "metadata": {},
   "source": [
    "<b> Use this (change file path) if it is an xlsx file </b>"
   ]
  },
  {
   "cell_type": "code",
   "execution_count": 26,
   "metadata": {},
   "outputs": [
    {
     "name": "stdout",
     "output_type": "stream",
     "text": [
      "✅ Header row found at line 10\n"
     ]
    }
   ],
   "source": [
    "df_2025 = load_excel_by_column_names(\n",
    "    \"https://www.nyc.gov/assets/finance/downloads/pdf/nopv/revised/revised_nopv-05142025.xlsx\",\n",
    "    engine=\"openpyxl\"\n",
    ")"
   ]
  },
  {
   "cell_type": "markdown",
   "metadata": {},
   "source": [
    "<b> Use this (change file path) if xls file </b>"
   ]
  },
  {
   "cell_type": "code",
   "execution_count": 30,
   "metadata": {},
   "outputs": [
    {
     "name": "stdout",
     "output_type": "stream",
     "text": [
      "✅ Header row found at line 11\n"
     ]
    }
   ],
   "source": [
    "df_2022 = load_excel_by_column_names(\n",
    "    \"https://www.nyc.gov/assets/finance/downloads/pdf/nopv/revised/revised-nopv-05182022.xls\",\n",
    "    engine=\"xlrd\"\n",
    ")"
   ]
  },
  {
   "cell_type": "markdown",
   "metadata": {},
   "source": [
    "<b> Check </b>"
   ]
  },
  {
   "cell_type": "code",
   "execution_count": 31,
   "metadata": {},
   "outputs": [
    {
     "name": "stdout",
     "output_type": "stream",
     "text": [
      "Index(['BORO', 'BLOCK', 'LOT', 'EASE', 'ADDRESS 1', 'ADDRESS 2', 'ADDRESS 3',\n",
      "       'CITY, STATE, ZIP', 'COUNTRY', 'Unnamed: 9', 'Unnamed: 10', 'ORIGINAL',\n",
      "       'Unnamed: 12', 'Unnamed: 13', 'Unnamed: 14', 'Unnamed: 15',\n",
      "       'Unnamed: 16', 'REVISED', 'Unnamed: 18', 'Unnamed: 19', 'Unnamed: 20',\n",
      "       'Unnamed: 21', 'Unnamed: 22', 'RC1', 'RC2', 'RC3', 'RC4', 'RC5'],\n",
      "      dtype='object')\n"
     ]
    }
   ],
   "source": [
    "df_2022\n",
    "print(df_2022.columns)"
   ]
  },
  {
   "cell_type": "markdown",
   "metadata": {},
   "source": [
    "# Step 2: Make clean function"
   ]
  },
  {
   "cell_type": "code",
   "execution_count": 21,
   "metadata": {},
   "outputs": [],
   "source": [
    "def clean_nopv(df, fiscal_year, publish_date):\n",
    "    \"\"\"\n",
    "    Cleans a Notice of Property Value DataFrame by standardizing structure and adding key fields.\n",
    "    \"\"\"\n",
    "    # 1. Normalize column names\n",
    "    df.columns = df.columns.str.strip().str.lower().str.replace(\" \", \"_\")\n",
    "\n",
    "    # 2. Drop rows without core identifying info\n",
    "    df = df.dropna(subset=[\"boro\", \"block\", \"lot\"])\n",
    "\n",
    "    # 3. Rename final roll value columns if they exist\n",
    "    rename_map = {\n",
    "        \"market_value.1\": \"market_value_final_roll\",\n",
    "        \"taxable_value.1\": \"taxable_value_final_roll\",\n",
    "        \"transitional_assesssed_value.1\": \"transitional_assessed_value_final_roll\",\n",
    "        \"transitional_exemption.1\": \"transitional_exemption_final_roll\"\n",
    "    }\n",
    "    df = df.rename(columns={k: v for k, v in rename_map.items() if k in df.columns})\n",
    "\n",
    "    # 4. Create BBL\n",
    "    df[\"bbl\"] = (\n",
    "        df[\"boro\"].astype(str).str.zfill(1) +\n",
    "        df[\"block\"].astype(str).str.zfill(5) +\n",
    "        df[\"lot\"].astype(str).str.zfill(4)\n",
    "    )\n",
    "\n",
    "    # 5. Add publication metadata\n",
    "    df[\"fiscal_year\"] = fiscal_year\n",
    "    df[\"date_published\"] = publish_date\n",
    "    df[\"published_year\"] = publish_date.year\n",
    "    df[\"published_month\"] = publish_date.month\n",
    "    df[\"published_day\"] = publish_date.day\n",
    "\n",
    "    return df\n"
   ]
  },
  {
   "cell_type": "code",
   "execution_count": 22,
   "metadata": {},
   "outputs": [
    {
     "name": "stdout",
     "output_type": "stream",
     "text": [
      "✅ Header row found at line 10\n"
     ]
    },
    {
     "data": {
      "text/html": [
       "<div>\n",
       "<style scoped>\n",
       "    .dataframe tbody tr th:only-of-type {\n",
       "        vertical-align: middle;\n",
       "    }\n",
       "\n",
       "    .dataframe tbody tr th {\n",
       "        vertical-align: top;\n",
       "    }\n",
       "\n",
       "    .dataframe thead th {\n",
       "        text-align: right;\n",
       "    }\n",
       "</style>\n",
       "<table border=\"1\" class=\"dataframe\">\n",
       "  <thead>\n",
       "    <tr style=\"text-align: right;\">\n",
       "      <th></th>\n",
       "      <th>boro</th>\n",
       "      <th>block</th>\n",
       "      <th>lot</th>\n",
       "      <th>ease</th>\n",
       "      <th>address_1</th>\n",
       "      <th>address_2</th>\n",
       "      <th>address_3</th>\n",
       "      <th>city,_state,_zip</th>\n",
       "      <th>country</th>\n",
       "      <th>tax_class</th>\n",
       "      <th>...</th>\n",
       "      <th>rc2</th>\n",
       "      <th>rc3</th>\n",
       "      <th>rc4</th>\n",
       "      <th>rc5</th>\n",
       "      <th>bbl</th>\n",
       "      <th>fiscal_year</th>\n",
       "      <th>date_published</th>\n",
       "      <th>published_year</th>\n",
       "      <th>published_month</th>\n",
       "      <th>published_day</th>\n",
       "    </tr>\n",
       "  </thead>\n",
       "  <tbody>\n",
       "    <tr>\n",
       "      <th>0</th>\n",
       "      <td>1</td>\n",
       "      <td>11</td>\n",
       "      <td>14</td>\n",
       "      <td>NaN</td>\n",
       "      <td>NaN</td>\n",
       "      <td>855 AVENUE OF THE AMERIC</td>\n",
       "      <td>NaN</td>\n",
       "      <td>NEW YORK NY 10001-4105</td>\n",
       "      <td>NaN</td>\n",
       "      <td>2</td>\n",
       "      <td>...</td>\n",
       "      <td>NaN</td>\n",
       "      <td>NaN</td>\n",
       "      <td>NaN</td>\n",
       "      <td>NaN</td>\n",
       "      <td>1000110014</td>\n",
       "      <td>2025</td>\n",
       "      <td>2025-05-14</td>\n",
       "      <td>2025</td>\n",
       "      <td>5</td>\n",
       "      <td>14</td>\n",
       "    </tr>\n",
       "    <tr>\n",
       "      <th>1</th>\n",
       "      <td>1</td>\n",
       "      <td>15</td>\n",
       "      <td>1004</td>\n",
       "      <td>NaN</td>\n",
       "      <td>NaN</td>\n",
       "      <td>1 S BOULEVARD</td>\n",
       "      <td>NaN</td>\n",
       "      <td>NYACK NY 10960-3604</td>\n",
       "      <td>NaN</td>\n",
       "      <td>4</td>\n",
       "      <td>...</td>\n",
       "      <td>NaN</td>\n",
       "      <td>NaN</td>\n",
       "      <td>NaN</td>\n",
       "      <td>NaN</td>\n",
       "      <td>1000151004</td>\n",
       "      <td>2025</td>\n",
       "      <td>2025-05-14</td>\n",
       "      <td>2025</td>\n",
       "      <td>5</td>\n",
       "      <td>14</td>\n",
       "    </tr>\n",
       "    <tr>\n",
       "      <th>2</th>\n",
       "      <td>1</td>\n",
       "      <td>18</td>\n",
       "      <td>1134</td>\n",
       "      <td>NaN</td>\n",
       "      <td>NaN</td>\n",
       "      <td>88 GREENWICH ST</td>\n",
       "      <td>APT 718</td>\n",
       "      <td>NEW YORK NY 10006-2229</td>\n",
       "      <td>NaN</td>\n",
       "      <td>2</td>\n",
       "      <td>...</td>\n",
       "      <td>NaN</td>\n",
       "      <td>NaN</td>\n",
       "      <td>NaN</td>\n",
       "      <td>NaN</td>\n",
       "      <td>1000181134</td>\n",
       "      <td>2025</td>\n",
       "      <td>2025-05-14</td>\n",
       "      <td>2025</td>\n",
       "      <td>5</td>\n",
       "      <td>14</td>\n",
       "    </tr>\n",
       "    <tr>\n",
       "      <th>3</th>\n",
       "      <td>1</td>\n",
       "      <td>18</td>\n",
       "      <td>1160</td>\n",
       "      <td>NaN</td>\n",
       "      <td>NaN</td>\n",
       "      <td>88 GREENWICH ST</td>\n",
       "      <td>APT 815</td>\n",
       "      <td>NEW YORK NY 10006-2231</td>\n",
       "      <td>NaN</td>\n",
       "      <td>2</td>\n",
       "      <td>...</td>\n",
       "      <td>NaN</td>\n",
       "      <td>NaN</td>\n",
       "      <td>NaN</td>\n",
       "      <td>NaN</td>\n",
       "      <td>1000181160</td>\n",
       "      <td>2025</td>\n",
       "      <td>2025-05-14</td>\n",
       "      <td>2025</td>\n",
       "      <td>5</td>\n",
       "      <td>14</td>\n",
       "    </tr>\n",
       "    <tr>\n",
       "      <th>4</th>\n",
       "      <td>1</td>\n",
       "      <td>26</td>\n",
       "      <td>1008</td>\n",
       "      <td>NaN</td>\n",
       "      <td>NaN</td>\n",
       "      <td>55 EXCHANGE PL</td>\n",
       "      <td>NaN</td>\n",
       "      <td>NEW YORK NY 10005-3301</td>\n",
       "      <td>NaN</td>\n",
       "      <td>4</td>\n",
       "      <td>...</td>\n",
       "      <td>NaN</td>\n",
       "      <td>NaN</td>\n",
       "      <td>NaN</td>\n",
       "      <td>NaN</td>\n",
       "      <td>1000261008</td>\n",
       "      <td>2025</td>\n",
       "      <td>2025-05-14</td>\n",
       "      <td>2025</td>\n",
       "      <td>5</td>\n",
       "      <td>14</td>\n",
       "    </tr>\n",
       "  </tbody>\n",
       "</table>\n",
       "<p>5 rows × 34 columns</p>\n",
       "</div>"
      ],
      "text/plain": [
       "   boro  block   lot  ease address_1                 address_2 address_3  \\\n",
       "0     1     11    14   NaN       NaN  855 AVENUE OF THE AMERIC       NaN   \n",
       "1     1     15  1004   NaN       NaN             1 S BOULEVARD       NaN   \n",
       "2     1     18  1134   NaN       NaN           88 GREENWICH ST   APT 718   \n",
       "3     1     18  1160   NaN       NaN           88 GREENWICH ST   APT 815   \n",
       "4     1     26  1008   NaN       NaN            55 EXCHANGE PL       NaN   \n",
       "\n",
       "         city,_state,_zip country tax_class  ...  rc2  rc3  rc4  rc5  \\\n",
       "0  NEW YORK NY 10001-4105     NaN         2  ...  NaN  NaN  NaN  NaN   \n",
       "1     NYACK NY 10960-3604     NaN         4  ...  NaN  NaN  NaN  NaN   \n",
       "2  NEW YORK NY 10006-2229     NaN         2  ...  NaN  NaN  NaN  NaN   \n",
       "3  NEW YORK NY 10006-2231     NaN         2  ...  NaN  NaN  NaN  NaN   \n",
       "4  NEW YORK NY 10005-3301     NaN         4  ...  NaN  NaN  NaN  NaN   \n",
       "\n",
       "          bbl  fiscal_year  date_published  published_year  published_month  \\\n",
       "0  1000110014         2025      2025-05-14            2025                5   \n",
       "1  1000151004         2025      2025-05-14            2025                5   \n",
       "2  1000181134         2025      2025-05-14            2025                5   \n",
       "3  1000181160         2025      2025-05-14            2025                5   \n",
       "4  1000261008         2025      2025-05-14            2025                5   \n",
       "\n",
       "   published_day  \n",
       "0             14  \n",
       "1             14  \n",
       "2             14  \n",
       "3             14  \n",
       "4             14  \n",
       "\n",
       "[5 rows x 34 columns]"
      ]
     },
     "execution_count": 22,
     "metadata": {},
     "output_type": "execute_result"
    }
   ],
   "source": [
    "from datetime import datetime\n",
    "\n",
    "df_2025_raw = load_excel_by_column_names(\n",
    "    \"https://www.nyc.gov/assets/finance/downloads/pdf/nopv/revised/revised_nopv-05142025.xlsx\",\n",
    "    engine=\"openpyxl\"\n",
    ")\n",
    "\n",
    "df_2025 = clean_nopv(df_2025_raw, fiscal_year=2025, publish_date=datetime(2025, 5, 14))\n",
    "df_2025.head()\n"
   ]
  },
  {
   "cell_type": "code",
   "execution_count": 23,
   "metadata": {},
   "outputs": [
    {
     "name": "stdout",
     "output_type": "stream",
     "text": [
      "Index(['boro', 'block', 'lot', 'ease', 'address_1', 'address_2', 'address_3',\n",
      "       'city,_state,_zip', 'country', 'tax_class', 'bldg_class',\n",
      "       'market_value', 'assessed_value', 'exemption',\n",
      "       'transitional_assesssed_value', 'transitional_exemption',\n",
      "       'taxable_value', 'market_value_final_roll',\n",
      "       'transitional_assessed_value_final_roll', 'exemption.1',\n",
      "       'transitional_assesssed_value.2', 'transitional_exemption_final_roll',\n",
      "       'taxable_value_final_roll', 'rc1', 'rc2', 'rc3', 'rc4', 'rc5', 'bbl',\n",
      "       'fiscal_year', 'date_published', 'published_year', 'published_month',\n",
      "       'published_day'],\n",
      "      dtype='object')\n"
     ]
    }
   ],
   "source": [
    "print(df_2025.columns)"
   ]
  }
 ],
 "metadata": {
  "kernelspec": {
   "display_name": "base",
   "language": "python",
   "name": "python3"
  },
  "language_info": {
   "codemirror_mode": {
    "name": "ipython",
    "version": 3
   },
   "file_extension": ".py",
   "mimetype": "text/x-python",
   "name": "python",
   "nbconvert_exporter": "python",
   "pygments_lexer": "ipython3",
   "version": "3.9.12"
  }
 },
 "nbformat": 4,
 "nbformat_minor": 2
}
