{
 "cells": [
  {
   "cell_type": "markdown",
   "metadata": {},
   "source": [
    "Import libraries"
   ]
  },
  {
   "cell_type": "code",
   "execution_count": 24,
   "metadata": {},
   "outputs": [],
   "source": [
    "import pandas as pd\n",
    "from datetime import datetime\n",
    "import os"
   ]
  },
  {
   "cell_type": "markdown",
   "metadata": {},
   "source": [
    "## Step 1: Load data from URL"
   ]
  },
  {
   "cell_type": "markdown",
   "metadata": {},
   "source": [
    "Need to do: column headers does not start at the same row number for all the years. Hence why the detect function. But there are other years where the expected start , 'boro', 'block', 'lot'... are in a different row than the other column headers. We need to build guardrails in case this is the case"
   ]
  },
  {
   "cell_type": "code",
   "execution_count": 51,
   "metadata": {},
   "outputs": [],
   "source": [
    "def load_excel_by_column_names(url, engine=None, expected_start=(\"boro\", \"block\", \"lot\"), max_scan=30):\n",
    "    \"\"\"\n",
    "    Loads an Excel file starting from the first row where column headers match `expected_start`.\n",
    "    \"\"\"\n",
    "    temp = pd.read_excel(url, header=None, engine=engine)\n",
    "\n",
    "    for i in range(max_scan):\n",
    "        row = temp.iloc[i].astype(str).str.strip().str.lower().tolist()\n",
    "        if row[:len(expected_start)] == list(expected_start):\n",
    "            print(f\"✅ Header row found at line {i - 1}\")\n",
    "            return pd.read_excel(url, skiprows=i, engine=engine)\n",
    "\n",
    "    raise ValueError(\"❌ Header row not found within scan range.\")"
   ]
  },
  {
   "cell_type": "markdown",
   "metadata": {},
   "source": [
    "<b> Use this (change file path) if it is an xlsx file </b>"
   ]
  },
  {
   "cell_type": "code",
   "execution_count": 52,
   "metadata": {},
   "outputs": [
    {
     "name": "stdout",
     "output_type": "stream",
     "text": [
      "✅ Header row found at line 10\n"
     ]
    }
   ],
   "source": [
    "df_2025 = load_excel_by_column_names(\n",
    "    \"https://www.nyc.gov/assets/finance/downloads/pdf/nopv/revised/revised_nopv_04182025.xlsx\",\n",
    "    engine=\"openpyxl\"\n",
    ")"
   ]
  },
  {
   "cell_type": "markdown",
   "metadata": {},
   "source": [
    "<b> Use this (change file path) if xls file </b>"
   ]
  },
  {
   "cell_type": "code",
   "execution_count": 30,
   "metadata": {},
   "outputs": [
    {
     "name": "stdout",
     "output_type": "stream",
     "text": [
      "✅ Header row found at line 11\n"
     ]
    }
   ],
   "source": [
    "df_2022 = load_excel_by_column_names(\n",
    "    \"https://www.nyc.gov/assets/finance/downloads/pdf/nopv/revised/revised-nopv-05182022.xls\",\n",
    "    engine=\"xlrd\"\n",
    ")"
   ]
  },
  {
   "cell_type": "markdown",
   "metadata": {},
   "source": [
    "<b> Check </b>"
   ]
  },
  {
   "cell_type": "code",
   "execution_count": 53,
   "metadata": {},
   "outputs": [
    {
     "name": "stdout",
     "output_type": "stream",
     "text": [
      "Index(['BORO', 'BLOCK', 'LOT', 'EASE', 'ADDRESS 1', 'ADDRESS 2', 'ADDRESS 3',\n",
      "       'CITY, STATE, ZIP', 'COUNTRY', 'TAX CLASS', 'BLDG CLASS',\n",
      "       'MARKET VALUE', 'ASSESSED VALUE', 'EXEMPTION',\n",
      "       'TRANSITIONAL ASSESSSED VALUE', 'TRANSITIONAL EXEMPTION',\n",
      "       'TAXABLE VALUE', 'MARKET VALUE.1', 'TRANSITIONAL ASSESSSED VALUE.1',\n",
      "       'EXEMPTION.1', 'TRANSITIONAL ASSESSSED VALUE.2',\n",
      "       'TRANSITIONAL EXEMPTION.1', 'TAXABLE VALUE.1', 'RC1', 'RC2', 'RC3',\n",
      "       'RC4', 'RC5'],\n",
      "      dtype='object')\n"
     ]
    }
   ],
   "source": [
    "df_2025\n",
    "print(df_2025.columns)"
   ]
  },
  {
   "cell_type": "markdown",
   "metadata": {},
   "source": [
    "# Step 2: Make clean function"
   ]
  },
  {
   "cell_type": "markdown",
   "metadata": {},
   "source": [
    "Need to do: some DOF column are not named correctly. ex. in 05/2025 case, there were two revised transitional assessed value, etc."
   ]
  },
  {
   "cell_type": "markdown",
   "metadata": {},
   "source": [
    "can drop repeated columns?"
   ]
  },
  {
   "cell_type": "code",
   "execution_count": 54,
   "metadata": {},
   "outputs": [],
   "source": [
    "RC_REASON_MAP = {\n",
    "    \"A\": \"Alteration\",\n",
    "    \"AP\": \"Apportionment\",\n",
    "    \"B\": \"Building in Progress Last Year\",\n",
    "    \"D\": \"Demolition\",\n",
    "    \"E\": \"Fully Exempt and now restored to taxable\",\n",
    "    \"E0\": \"Sales\",\n",
    "    \"E1\": \"Economics\",\n",
    "    \"E2\": \"Admin Review (Assessor initiated)\",\n",
    "    \"E3\": \"Sales (Taxpayer initiated)\",\n",
    "    \"E4\": \"Economics (Taxpayer initiated)\",\n",
    "    \"E5\": \"Admin Review (Taxpayer initiated)\",\n",
    "    \"M\": \"MV only Change\",\n",
    "    \"N\": \"New Building\",\n",
    "    \"NP\": \"New Building in Progress\",\n",
    "    \"P\": \"Physical Change\",\n",
    "    \"S\": \"Street Gain or Loss\",\n",
    "    \"T\": \"Transfer to/from REUC\",\n",
    "    \"X\": \"Other Change\"\n",
    "}\n"
   ]
  },
  {
   "cell_type": "code",
   "execution_count": 55,
   "metadata": {},
   "outputs": [],
   "source": [
    "def clean_nopv(df, fiscal_year, publish_date):\n",
    "    \"\"\"\n",
    "    Cleans a Notice of Property Value DataFrame by standardizing structure and adding key fields.\n",
    "    \"\"\"\n",
    "    RC_REASON_MAP = {\n",
    "        \"A\": \"Alteration\", \"AP\": \"Apportionment\", \"B\": \"Building in Progress Last Year\",\n",
    "        \"D\": \"Demolition\", \"E\": \"Fully Exempt and now restored to taxable\", \"E0\": \"Sales\",\n",
    "        \"E1\": \"Economics\", \"E2\": \"Admin Review (Assessor initiated)\", \"E3\": \"Sales (Taxpayer initiated)\",\n",
    "        \"E4\": \"Economics (Taxpayer initiated)\", \"E5\": \"Admin Review (Taxpayer initiated)\",\n",
    "        \"M\": \"MV only Change\", \"N\": \"New Building\", \"NP\": \"New Building in Progress\",\n",
    "        \"P\": \"Physical Change\", \"S\": \"Street Gain or Loss\", \"T\": \"Transfer to/from REUC\",\n",
    "        \"X\": \"Other Change\"\n",
    "    }\n",
    "\n",
    "    # 1. Normalize column names\n",
    "    df.columns = df.columns.str.strip().str.lower().str.replace(\" \", \"_\")\n",
    "\n",
    "    # 2. Drop rows without core identifying info\n",
    "    df = df.dropna(subset=[\"boro\", \"block\", \"lot\"])\n",
    "\n",
    "    # 3. Rename final roll value columns if they exist\n",
    "    rename_map = {\n",
    "        \"market_value.1\": \"market_value_final_roll\",\n",
    "        \"taxable_value.1\": \"taxable_value_final_roll\",\n",
    "        \"transitional_assesssed_value.1\": \"transitional_assessed_value_final_roll\",\n",
    "        \"transitional_exemption.1\": \"transitional_exemption_final_roll\"\n",
    "    }\n",
    "    df = df.rename(columns={k: v for k, v in rename_map.items() if k in df.columns})\n",
    "\n",
    "    # 4. Create BBL\n",
    "    df[\"bbl\"] = (\n",
    "        df[\"boro\"].astype(str).str.zfill(1) +\n",
    "        df[\"block\"].astype(str).str.zfill(5) +\n",
    "        df[\"lot\"].astype(str).str.zfill(4)\n",
    "    )\n",
    "\n",
    "    # 5. Add publication metadata\n",
    "    df[\"fiscal_year\"] = fiscal_year\n",
    "    df[\"date_published\"] = publish_date\n",
    "    df[\"published_year\"] = publish_date.year\n",
    "    df[\"published_month\"] = publish_date.month\n",
    "    df[\"published_day\"] = publish_date.day\n",
    "\n",
    "    # 6. Translate RC codes to descriptions\n",
    "    for col in [\"rc1\", \"rc2\", \"rc3\", \"rc4\", \"rc5\"]:\n",
    "        if col in df.columns:\n",
    "            df[f\"{col}_desc\"] = df[col].astype(str).str.strip().map(RC_REASON_MAP).fillna(\"Unknown\")\n",
    "\n",
    "    return df\n"
   ]
  },
  {
   "cell_type": "code",
   "execution_count": 57,
   "metadata": {},
   "outputs": [
    {
     "name": "stdout",
     "output_type": "stream",
     "text": [
      "✅ Header row found at line 10\n"
     ]
    },
    {
     "data": {
      "text/html": [
       "<div>\n",
       "<style scoped>\n",
       "    .dataframe tbody tr th:only-of-type {\n",
       "        vertical-align: middle;\n",
       "    }\n",
       "\n",
       "    .dataframe tbody tr th {\n",
       "        vertical-align: top;\n",
       "    }\n",
       "\n",
       "    .dataframe thead th {\n",
       "        text-align: right;\n",
       "    }\n",
       "</style>\n",
       "<table border=\"1\" class=\"dataframe\">\n",
       "  <thead>\n",
       "    <tr style=\"text-align: right;\">\n",
       "      <th></th>\n",
       "      <th>boro</th>\n",
       "      <th>block</th>\n",
       "      <th>lot</th>\n",
       "      <th>ease</th>\n",
       "      <th>address_1</th>\n",
       "      <th>address_2</th>\n",
       "      <th>address_3</th>\n",
       "      <th>city,_state,_zip</th>\n",
       "      <th>country</th>\n",
       "      <th>tax_class</th>\n",
       "      <th>...</th>\n",
       "      <th>fiscal_year</th>\n",
       "      <th>date_published</th>\n",
       "      <th>published_year</th>\n",
       "      <th>published_month</th>\n",
       "      <th>published_day</th>\n",
       "      <th>rc1_desc</th>\n",
       "      <th>rc2_desc</th>\n",
       "      <th>rc3_desc</th>\n",
       "      <th>rc4_desc</th>\n",
       "      <th>rc5_desc</th>\n",
       "    </tr>\n",
       "  </thead>\n",
       "  <tbody>\n",
       "    <tr>\n",
       "      <th>0</th>\n",
       "      <td>1</td>\n",
       "      <td>16.0</td>\n",
       "      <td>3.0</td>\n",
       "      <td>NaN</td>\n",
       "      <td>NaN</td>\n",
       "      <td>55 WATER ST</td>\n",
       "      <td>NaN</td>\n",
       "      <td>NEW YORK NY 10041-0004</td>\n",
       "      <td>NaN</td>\n",
       "      <td>4</td>\n",
       "      <td>...</td>\n",
       "      <td>2025</td>\n",
       "      <td>2025-05-14</td>\n",
       "      <td>2025</td>\n",
       "      <td>5</td>\n",
       "      <td>14</td>\n",
       "      <td>Economics</td>\n",
       "      <td>Unknown</td>\n",
       "      <td>Unknown</td>\n",
       "      <td>Unknown</td>\n",
       "      <td>Unknown</td>\n",
       "    </tr>\n",
       "    <tr>\n",
       "      <th>1</th>\n",
       "      <td>1</td>\n",
       "      <td>53.0</td>\n",
       "      <td>12.0</td>\n",
       "      <td>NaN</td>\n",
       "      <td>NaN</td>\n",
       "      <td>4601 PARK RD STE 450</td>\n",
       "      <td>NaN</td>\n",
       "      <td>CHARLOTTE NC 28209-3568</td>\n",
       "      <td>NaN</td>\n",
       "      <td>2</td>\n",
       "      <td>...</td>\n",
       "      <td>2025</td>\n",
       "      <td>2025-05-14</td>\n",
       "      <td>2025</td>\n",
       "      <td>5</td>\n",
       "      <td>14</td>\n",
       "      <td>Economics</td>\n",
       "      <td>Unknown</td>\n",
       "      <td>Unknown</td>\n",
       "      <td>Unknown</td>\n",
       "      <td>Unknown</td>\n",
       "    </tr>\n",
       "    <tr>\n",
       "      <th>2</th>\n",
       "      <td>1</td>\n",
       "      <td>107.0</td>\n",
       "      <td>134.0</td>\n",
       "      <td>NaN</td>\n",
       "      <td>NaN</td>\n",
       "      <td>28 OLD MILL RD</td>\n",
       "      <td>NaN</td>\n",
       "      <td>MANHASSET NY 11030-3310</td>\n",
       "      <td>NaN</td>\n",
       "      <td>1</td>\n",
       "      <td>...</td>\n",
       "      <td>2025</td>\n",
       "      <td>2025-05-14</td>\n",
       "      <td>2025</td>\n",
       "      <td>5</td>\n",
       "      <td>14</td>\n",
       "      <td>Economics</td>\n",
       "      <td>Unknown</td>\n",
       "      <td>Unknown</td>\n",
       "      <td>Unknown</td>\n",
       "      <td>Unknown</td>\n",
       "    </tr>\n",
       "    <tr>\n",
       "      <th>3</th>\n",
       "      <td>1</td>\n",
       "      <td>132.0</td>\n",
       "      <td>1403.0</td>\n",
       "      <td>NaN</td>\n",
       "      <td>NaN</td>\n",
       "      <td>83 MURRAY STREET</td>\n",
       "      <td>APT 2</td>\n",
       "      <td>NEW YORK NY 10007</td>\n",
       "      <td>NaN</td>\n",
       "      <td>2C</td>\n",
       "      <td>...</td>\n",
       "      <td>2025</td>\n",
       "      <td>2025-05-14</td>\n",
       "      <td>2025</td>\n",
       "      <td>5</td>\n",
       "      <td>14</td>\n",
       "      <td>Economics</td>\n",
       "      <td>Unknown</td>\n",
       "      <td>Unknown</td>\n",
       "      <td>Unknown</td>\n",
       "      <td>Unknown</td>\n",
       "    </tr>\n",
       "    <tr>\n",
       "      <th>4</th>\n",
       "      <td>1</td>\n",
       "      <td>144.0</td>\n",
       "      <td>1204.0</td>\n",
       "      <td>NaN</td>\n",
       "      <td>NaN</td>\n",
       "      <td>159 DUANE ST PH</td>\n",
       "      <td>NaN</td>\n",
       "      <td>NEW YORK NY 10013-3890</td>\n",
       "      <td>NaN</td>\n",
       "      <td>2C</td>\n",
       "      <td>...</td>\n",
       "      <td>2025</td>\n",
       "      <td>2025-05-14</td>\n",
       "      <td>2025</td>\n",
       "      <td>5</td>\n",
       "      <td>14</td>\n",
       "      <td>Economics</td>\n",
       "      <td>Unknown</td>\n",
       "      <td>Unknown</td>\n",
       "      <td>Unknown</td>\n",
       "      <td>Unknown</td>\n",
       "    </tr>\n",
       "  </tbody>\n",
       "</table>\n",
       "<p>5 rows × 39 columns</p>\n",
       "</div>"
      ],
      "text/plain": [
       "  boro  block     lot  ease address_1             address_2 address_3  \\\n",
       "0    1   16.0     3.0   NaN       NaN           55 WATER ST       NaN   \n",
       "1    1   53.0    12.0   NaN       NaN  4601 PARK RD STE 450       NaN   \n",
       "2    1  107.0   134.0   NaN       NaN        28 OLD MILL RD       NaN   \n",
       "3    1  132.0  1403.0   NaN       NaN      83 MURRAY STREET     APT 2   \n",
       "4    1  144.0  1204.0   NaN       NaN       159 DUANE ST PH       NaN   \n",
       "\n",
       "          city,_state,_zip country tax_class  ... fiscal_year  date_published  \\\n",
       "0   NEW YORK NY 10041-0004     NaN         4  ...        2025      2025-05-14   \n",
       "1  CHARLOTTE NC 28209-3568     NaN         2  ...        2025      2025-05-14   \n",
       "2  MANHASSET NY 11030-3310     NaN         1  ...        2025      2025-05-14   \n",
       "3        NEW YORK NY 10007     NaN        2C  ...        2025      2025-05-14   \n",
       "4   NEW YORK NY 10013-3890     NaN        2C  ...        2025      2025-05-14   \n",
       "\n",
       "   published_year  published_month  published_day   rc1_desc  rc2_desc  \\\n",
       "0            2025                5             14  Economics   Unknown   \n",
       "1            2025                5             14  Economics   Unknown   \n",
       "2            2025                5             14  Economics   Unknown   \n",
       "3            2025                5             14  Economics   Unknown   \n",
       "4            2025                5             14  Economics   Unknown   \n",
       "\n",
       "   rc3_desc  rc4_desc  rc5_desc  \n",
       "0   Unknown   Unknown   Unknown  \n",
       "1   Unknown   Unknown   Unknown  \n",
       "2   Unknown   Unknown   Unknown  \n",
       "3   Unknown   Unknown   Unknown  \n",
       "4   Unknown   Unknown   Unknown  \n",
       "\n",
       "[5 rows x 39 columns]"
      ]
     },
     "execution_count": 57,
     "metadata": {},
     "output_type": "execute_result"
    }
   ],
   "source": [
    "from datetime import datetime\n",
    "\n",
    "df_2025_raw = load_excel_by_column_names(\n",
    "    \"https://www.nyc.gov/assets/finance/downloads/pdf/nopv/revised/revised_nopv_04182025.xlsx\",\n",
    "    engine=\"openpyxl\"\n",
    ")\n",
    "\n",
    "df_2025 = clean_nopv(df_2025_raw, fiscal_year=2025, publish_date=datetime(2025, 5, 14))\n",
    "df_2025.head()\n"
   ]
  },
  {
   "cell_type": "code",
   "execution_count": 58,
   "metadata": {},
   "outputs": [
    {
     "name": "stdout",
     "output_type": "stream",
     "text": [
      "Index(['boro', 'block', 'lot', 'ease', 'address_1', 'address_2', 'address_3',\n",
      "       'city,_state,_zip', 'country', 'tax_class', 'bldg_class',\n",
      "       'market_value', 'assessed_value', 'exemption',\n",
      "       'transitional_assesssed_value', 'transitional_exemption',\n",
      "       'taxable_value', 'market_value_final_roll',\n",
      "       'transitional_assessed_value_final_roll', 'exemption.1',\n",
      "       'transitional_assesssed_value.2', 'transitional_exemption_final_roll',\n",
      "       'taxable_value_final_roll', 'rc1', 'rc2', 'rc3', 'rc4', 'rc5', 'bbl',\n",
      "       'fiscal_year', 'date_published', 'published_year', 'published_month',\n",
      "       'published_day', 'rc1_desc', 'rc2_desc', 'rc3_desc', 'rc4_desc',\n",
      "       'rc5_desc'],\n",
      "      dtype='object')\n"
     ]
    }
   ],
   "source": [
    "print(df_2025.columns)"
   ]
  },
  {
   "cell_type": "markdown",
   "metadata": {},
   "source": [
    "# Step 3: Append to repository dataset"
   ]
  },
  {
   "cell_type": "code",
   "execution_count": 59,
   "metadata": {},
   "outputs": [
    {
     "name": "stdout",
     "output_type": "stream",
     "text": [
      "✅ Header row found at line 10\n"
     ]
    }
   ],
   "source": [
    "from datetime import datetime\n",
    "\n",
    "# Load and clean the raw data\n",
    "df_2025_raw = load_excel_by_column_names(\n",
    "    \"https://www.nyc.gov/assets/finance/downloads/pdf/nopv/revised/revised_nopv_04182025.xlsx\",\n",
    "    engine=\"openpyxl\"\n",
    ")\n",
    "\n",
    "df_cleaned = clean_nopv(df_2025_raw, fiscal_year=2025, publish_date=datetime(2025, 5, 14))\n"
   ]
  },
  {
   "cell_type": "code",
   "execution_count": 60,
   "metadata": {},
   "outputs": [
    {
     "data": {
      "text/plain": [
       "Ellipsis"
      ]
     },
     "execution_count": 60,
     "metadata": {},
     "output_type": "execute_result"
    }
   ],
   "source": [
    "# Append to master\n",
    "df_master = pd.concat([df_master, df_cleaned], ignore_index=True)\n",
    "...\n"
   ]
  },
  {
   "cell_type": "code",
   "execution_count": 61,
   "metadata": {},
   "outputs": [],
   "source": [
    "df_master.to_csv(master_path, index=False)\n"
   ]
  },
  {
   "cell_type": "code",
   "execution_count": 62,
   "metadata": {},
   "outputs": [
    {
     "name": "stderr",
     "output_type": "stream",
     "text": [
      "c:\\Users\\gertr\\anaconda3\\lib\\site-packages\\IPython\\core\\interactiveshell.py:3106: DtypeWarning: Columns (28) have mixed types.Specify dtype option on import or set low_memory=False.\n",
      "  has_raised = await self.run_ast_nodes(code_ast.body, cell_name,\n"
     ]
    },
    {
     "data": {
      "text/html": [
       "<div>\n",
       "<style scoped>\n",
       "    .dataframe tbody tr th:only-of-type {\n",
       "        vertical-align: middle;\n",
       "    }\n",
       "\n",
       "    .dataframe tbody tr th {\n",
       "        vertical-align: top;\n",
       "    }\n",
       "\n",
       "    .dataframe thead th {\n",
       "        text-align: right;\n",
       "    }\n",
       "</style>\n",
       "<table border=\"1\" class=\"dataframe\">\n",
       "  <thead>\n",
       "    <tr style=\"text-align: right;\">\n",
       "      <th></th>\n",
       "      <th>boro</th>\n",
       "      <th>block</th>\n",
       "      <th>lot</th>\n",
       "      <th>ease</th>\n",
       "      <th>address_1</th>\n",
       "      <th>address_2</th>\n",
       "      <th>address_3</th>\n",
       "      <th>city,_state,_zip</th>\n",
       "      <th>country</th>\n",
       "      <th>tax_class</th>\n",
       "      <th>...</th>\n",
       "      <th>fiscal_year</th>\n",
       "      <th>date_published</th>\n",
       "      <th>published_year</th>\n",
       "      <th>published_month</th>\n",
       "      <th>published_day</th>\n",
       "      <th>rc1_desc</th>\n",
       "      <th>rc2_desc</th>\n",
       "      <th>rc3_desc</th>\n",
       "      <th>rc4_desc</th>\n",
       "      <th>rc5_desc</th>\n",
       "    </tr>\n",
       "  </thead>\n",
       "  <tbody>\n",
       "    <tr>\n",
       "      <th>31064</th>\n",
       "      <td>5</td>\n",
       "      <td>7913.0</td>\n",
       "      <td>76.0</td>\n",
       "      <td>NaN</td>\n",
       "      <td>NaN</td>\n",
       "      <td>131 CARTERET ST</td>\n",
       "      <td>NaN</td>\n",
       "      <td>STATEN ISLAND NY 10307-1606</td>\n",
       "      <td>NaN</td>\n",
       "      <td>1</td>\n",
       "      <td>...</td>\n",
       "      <td>2025</td>\n",
       "      <td>2025-05-14</td>\n",
       "      <td>2025</td>\n",
       "      <td>5</td>\n",
       "      <td>14</td>\n",
       "      <td>Economics</td>\n",
       "      <td>Unknown</td>\n",
       "      <td>Unknown</td>\n",
       "      <td>Unknown</td>\n",
       "      <td>Unknown</td>\n",
       "    </tr>\n",
       "    <tr>\n",
       "      <th>31065</th>\n",
       "      <td>5</td>\n",
       "      <td>7945.0</td>\n",
       "      <td>52.0</td>\n",
       "      <td>NaN</td>\n",
       "      <td>NaN</td>\n",
       "      <td>45 SATTERLEE ST</td>\n",
       "      <td>NaN</td>\n",
       "      <td>STATEN ISLAND NY 10307-1501</td>\n",
       "      <td>NaN</td>\n",
       "      <td>1</td>\n",
       "      <td>...</td>\n",
       "      <td>2025</td>\n",
       "      <td>2025-05-14</td>\n",
       "      <td>2025</td>\n",
       "      <td>5</td>\n",
       "      <td>14</td>\n",
       "      <td>Other Change</td>\n",
       "      <td>Unknown</td>\n",
       "      <td>Unknown</td>\n",
       "      <td>Unknown</td>\n",
       "      <td>Unknown</td>\n",
       "    </tr>\n",
       "    <tr>\n",
       "      <th>31066</th>\n",
       "      <td>5</td>\n",
       "      <td>8012.0</td>\n",
       "      <td>32.0</td>\n",
       "      <td>NaN</td>\n",
       "      <td>NaN</td>\n",
       "      <td>11 CRAIG AVE</td>\n",
       "      <td>NaN</td>\n",
       "      <td>STATEN ISLAND NY 10307-1328</td>\n",
       "      <td>NaN</td>\n",
       "      <td>1</td>\n",
       "      <td>...</td>\n",
       "      <td>2025</td>\n",
       "      <td>2025-05-14</td>\n",
       "      <td>2025</td>\n",
       "      <td>5</td>\n",
       "      <td>14</td>\n",
       "      <td>Economics</td>\n",
       "      <td>Unknown</td>\n",
       "      <td>Unknown</td>\n",
       "      <td>Unknown</td>\n",
       "      <td>Unknown</td>\n",
       "    </tr>\n",
       "    <tr>\n",
       "      <th>31067</th>\n",
       "      <td>5</td>\n",
       "      <td>8025.0</td>\n",
       "      <td>88.0</td>\n",
       "      <td>NaN</td>\n",
       "      <td>NaN</td>\n",
       "      <td>272 CARTERET ST</td>\n",
       "      <td>NaN</td>\n",
       "      <td>STATEN ISLAND NY 10307-1631</td>\n",
       "      <td>NaN</td>\n",
       "      <td>1</td>\n",
       "      <td>...</td>\n",
       "      <td>2025</td>\n",
       "      <td>2025-05-14</td>\n",
       "      <td>2025</td>\n",
       "      <td>5</td>\n",
       "      <td>14</td>\n",
       "      <td>Economics</td>\n",
       "      <td>Unknown</td>\n",
       "      <td>Unknown</td>\n",
       "      <td>Unknown</td>\n",
       "      <td>Unknown</td>\n",
       "    </tr>\n",
       "    <tr>\n",
       "      <th>31068</th>\n",
       "      <td>5</td>\n",
       "      <td>8047.0</td>\n",
       "      <td>73.0</td>\n",
       "      <td>NaN</td>\n",
       "      <td>NaN</td>\n",
       "      <td>198 JOHNSON AVE</td>\n",
       "      <td>NaN</td>\n",
       "      <td>STATEN ISLAND NY 10307-1262</td>\n",
       "      <td>NaN</td>\n",
       "      <td>1</td>\n",
       "      <td>...</td>\n",
       "      <td>2025</td>\n",
       "      <td>2025-05-14</td>\n",
       "      <td>2025</td>\n",
       "      <td>5</td>\n",
       "      <td>14</td>\n",
       "      <td>Building in Progress Last Year</td>\n",
       "      <td>Economics</td>\n",
       "      <td>Unknown</td>\n",
       "      <td>Unknown</td>\n",
       "      <td>Unknown</td>\n",
       "    </tr>\n",
       "  </tbody>\n",
       "</table>\n",
       "<p>5 rows × 39 columns</p>\n",
       "</div>"
      ],
      "text/plain": [
       "       boro   block   lot  ease address_1        address_2 address_3  \\\n",
       "31064     5  7913.0  76.0   NaN       NaN  131 CARTERET ST       NaN   \n",
       "31065     5  7945.0  52.0   NaN       NaN  45 SATTERLEE ST       NaN   \n",
       "31066     5  8012.0  32.0   NaN       NaN     11 CRAIG AVE       NaN   \n",
       "31067     5  8025.0  88.0   NaN       NaN  272 CARTERET ST       NaN   \n",
       "31068     5  8047.0  73.0   NaN       NaN  198 JOHNSON AVE       NaN   \n",
       "\n",
       "                  city,_state,_zip country tax_class  ... fiscal_year  \\\n",
       "31064  STATEN ISLAND NY 10307-1606     NaN         1  ...        2025   \n",
       "31065  STATEN ISLAND NY 10307-1501     NaN         1  ...        2025   \n",
       "31066  STATEN ISLAND NY 10307-1328     NaN         1  ...        2025   \n",
       "31067  STATEN ISLAND NY 10307-1631     NaN         1  ...        2025   \n",
       "31068  STATEN ISLAND NY 10307-1262     NaN         1  ...        2025   \n",
       "\n",
       "       date_published  published_year  published_month  published_day  \\\n",
       "31064      2025-05-14            2025                5             14   \n",
       "31065      2025-05-14            2025                5             14   \n",
       "31066      2025-05-14            2025                5             14   \n",
       "31067      2025-05-14            2025                5             14   \n",
       "31068      2025-05-14            2025                5             14   \n",
       "\n",
       "                             rc1_desc   rc2_desc  rc3_desc  rc4_desc  rc5_desc  \n",
       "31064                       Economics    Unknown   Unknown   Unknown   Unknown  \n",
       "31065                    Other Change    Unknown   Unknown   Unknown   Unknown  \n",
       "31066                       Economics    Unknown   Unknown   Unknown   Unknown  \n",
       "31067                       Economics    Unknown   Unknown   Unknown   Unknown  \n",
       "31068  Building in Progress Last Year  Economics   Unknown   Unknown   Unknown  \n",
       "\n",
       "[5 rows x 39 columns]"
      ]
     },
     "execution_count": 62,
     "metadata": {},
     "output_type": "execute_result"
    }
   ],
   "source": [
    "pd.read_csv(\"../data/cleaned/nopv_master.csv\").tail()\n"
   ]
  }
 ],
 "metadata": {
  "kernelspec": {
   "display_name": "base",
   "language": "python",
   "name": "python3"
  },
  "language_info": {
   "codemirror_mode": {
    "name": "ipython",
    "version": 3
   },
   "file_extension": ".py",
   "mimetype": "text/x-python",
   "name": "python",
   "nbconvert_exporter": "python",
   "pygments_lexer": "ipython3",
   "version": "3.9.12"
  }
 },
 "nbformat": 4,
 "nbformat_minor": 2
}
